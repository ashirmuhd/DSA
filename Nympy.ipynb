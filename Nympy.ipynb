{
  "nbformat": 4,
  "nbformat_minor": 0,
  "metadata": {
    "colab": {
      "provenance": [],
      "authorship_tag": "ABX9TyPcv0cJ7BUfBN6laGGaaseo",
      "include_colab_link": true
    },
    "kernelspec": {
      "name": "python3",
      "display_name": "Python 3"
    },
    "language_info": {
      "name": "python"
    }
  },
  "cells": [
    {
      "cell_type": "markdown",
      "metadata": {
        "id": "view-in-github",
        "colab_type": "text"
      },
      "source": [
        "<a href=\"https://colab.research.google.com/github/ashirmuhd/DSA/blob/main/Nympy.ipynb\" target=\"_parent\"><img src=\"https://colab.research.google.com/assets/colab-badge.svg\" alt=\"Open In Colab\"/></a>"
      ]
    },
    {
      "cell_type": "markdown",
      "source": [
        "1. Create a NumPy array with values from 10 to 49 (inclusive).\n",
        "● Reshape it into a 4x10 matrix.\n",
        "● Then extract the last column from the reshaped matrix"
      ],
      "metadata": {
        "id": "XcTDEcKgzWUi"
      }
    },
    {
      "cell_type": "code",
      "source": [
        "import numpy as np\n",
        "\n",
        "a = np.arange(10,50).reshape(4,10)\n",
        "a.shape\n",
        "a[:,1]"
      ],
      "metadata": {
        "id": "HQUZifZ8zjtn",
        "colab": {
          "base_uri": "https://localhost:8080/"
        },
        "outputId": "99469e8a-a5fb-4593-d664-411542b05765"
      },
      "execution_count": null,
      "outputs": [
        {
          "output_type": "execute_result",
          "data": {
            "text/plain": [
              "array([11, 21, 31, 41])"
            ]
          },
          "metadata": {},
          "execution_count": 2
        }
      ]
    },
    {
      "cell_type": "markdown",
      "source": [
        "2. Create two 3×3 matrices:\n",
        "One filled with all 5s , One with values from 1 to 9\n",
        "● Add the two matrices\n",
        "● Multiply them element-wise\n",
        "● Then find the transpose of the result"
      ],
      "metadata": {
        "id": "av4R8l6q2EoQ"
      }
    },
    {
      "cell_type": "code",
      "source": [
        "a1 = np.full((3,3),5)\n",
        "a2 = np.arange(1,10).reshape(3,3)\n",
        "add = (a1+a2)\n",
        "mul = (a1*a2)\n",
        "trs = np.transpose(mul)\n",
        "print(\"ADD :\",add )\n",
        "print(\"MUL :\",mul )\n",
        "print(\"TRS :\",trs )\n",
        "\n"
      ],
      "metadata": {
        "colab": {
          "base_uri": "https://localhost:8080/"
        },
        "id": "XS4pNsle2MOO",
        "outputId": "dbfcd230-8eb8-4dfe-93c4-7e8005b35979"
      },
      "execution_count": null,
      "outputs": [
        {
          "output_type": "stream",
          "name": "stdout",
          "text": [
            "ADD : [[ 6  7  8]\n",
            " [ 9 10 11]\n",
            " [12 13 14]]\n",
            "MUL : [[ 5 10 15]\n",
            " [20 25 30]\n",
            " [35 40 45]]\n",
            "TRS : [[ 5 20 35]\n",
            " [10 25 40]\n",
            " [15 30 45]]\n"
          ]
        }
      ]
    },
    {
      "cell_type": "markdown",
      "source": [
        " Create a NumPy array of 15 random integers between 10 and 100.\n",
        "● Replace all values greater than 50 with -1\n",
        "● Count how many values were replaced.\n"
      ],
      "metadata": {
        "id": "RKfimi7e7EFb"
      }
    },
    {
      "cell_type": "code",
      "source": [
        "a = np.random.randint(10,100,size=15)\n",
        "c = 0\n",
        "for i in range(len(a)):\n",
        "  if a[i] > 50:\n",
        "    a[i] = -1\n",
        "    c +=1\n",
        "\n",
        "print(c)\n"
      ],
      "metadata": {
        "colab": {
          "base_uri": "https://localhost:8080/"
        },
        "id": "oczoN1oX7JzR",
        "outputId": "4660fde3-cc1a-4423-d135-360c377b2e76"
      },
      "execution_count": null,
      "outputs": [
        {
          "output_type": "stream",
          "name": "stdout",
          "text": [
            "9\n"
          ]
        }
      ]
    },
    {
      "cell_type": "markdown",
      "source": [
        "4. Generate a 5×4 array with random values between 0 and 1 (float).\n",
        "● Find the row with the maximum sum of values.\n",
        "● Normalize each row using the formula:X = x-min /max-min"
      ],
      "metadata": {
        "id": "dWWxSLjD-iqf"
      }
    },
    {
      "cell_type": "code",
      "source": [
        "a = np.random.rand(5,4)\n",
        "max_sum = np.argmax(np.sum(a,axis=1))\n",
        "min = np.min(a)\n",
        "max = np.max(a)\n",
        "norm = a - min / max -min\n",
        "print(\"Array :\",a)\n",
        "print(\"max row:\",max_sum)\n",
        "print(\"Norm\",norm)\n"
      ],
      "metadata": {
        "colab": {
          "base_uri": "https://localhost:8080/"
        },
        "id": "_KNM_ecL7skF",
        "outputId": "aa270595-005e-4bd9-9d52-6801fb78aff4"
      },
      "execution_count": null,
      "outputs": [
        {
          "output_type": "stream",
          "name": "stdout",
          "text": [
            "Array : [[0.44565477 0.0763855  0.20426779 0.55086545]\n",
            " [0.58430482 0.67265616 0.94869653 0.14513041]\n",
            " [0.32183833 0.18480034 0.17250436 0.72193715]\n",
            " [0.55899839 0.42963644 0.65687836 0.23331727]\n",
            " [0.04255276 0.49275887 0.25760984 0.24632478]]\n",
            "max row: 1\n",
            "Norm [[ 0.35824809 -0.01102117  0.11686112  0.46345877]\n",
            " [ 0.49689815  0.58524949  0.86128985  0.05772373]\n",
            " [ 0.23443165  0.09739366  0.08509768  0.63453047]\n",
            " [ 0.47159172  0.34222977  0.56947169  0.14591059]\n",
            " [-0.04485392  0.4053522   0.17020317  0.15891811]]\n"
          ]
        }
      ]
    },
    {
      "cell_type": "markdown",
      "source": [
        "5. arr = np.array([1, 3, 5, 3, 7, 9, 1, 5, 5])\n",
        "● Find all unique elements\n",
        "● Find the duplicates (elements that appear more than once)"
      ],
      "metadata": {
        "id": "g49aCdvpM0uv"
      }
    },
    {
      "cell_type": "code",
      "source": [
        "\n",
        "arr = np.array([1, 3, 5, 3, 7, 9, 1, 5, 5])\n",
        "unique, counts = np.unique(arr, return_counts=True)\n",
        "duplicates = unique[counts > 1]\n",
        "print(\"Unique Elements:\",unique)\n",
        "print(\"Duplicate elements:\", duplicates)\n",
        "\n"
      ],
      "metadata": {
        "id": "OXWqTGoW_Mvk",
        "colab": {
          "base_uri": "https://localhost:8080/"
        },
        "outputId": "89618007-23c8-400e-a227-a03803dc51d0"
      },
      "execution_count": null,
      "outputs": [
        {
          "output_type": "stream",
          "name": "stdout",
          "text": [
            "Unique Elements: [1 3 5 7 9]\n",
            "Duplicate elements: [1 3 5]\n"
          ]
        }
      ]
    },
    {
      "cell_type": "markdown",
      "source": [
        "6. Create a 6×6 NumPy array with values from 1 to 36.\n",
        "● Extract the middle 4×4 submatrix.\n",
        "● Then extract all even numbers from this submatrix."
      ],
      "metadata": {
        "id": "fzsvhru8-Pqc"
      }
    },
    {
      "cell_type": "code",
      "source": [
        "a = np.arange(1,37).reshape(6,6)\n",
        "m = a[1:5,1:5]\n",
        "e = m[m%2 ==0]\n",
        "print(\"ARRAY:\",a)\n",
        "print(\"SUB_MATRIX:\",m)\n",
        "print(\"EVEN_NO_FROM_SUB_MATRIX:\",e)"
      ],
      "metadata": {
        "id": "2JadJ7t4NXAf",
        "colab": {
          "base_uri": "https://localhost:8080/"
        },
        "outputId": "27db1720-c90e-4d23-ee75-fca939b8580d"
      },
      "execution_count": null,
      "outputs": [
        {
          "output_type": "stream",
          "name": "stdout",
          "text": [
            "ARRAY: [[ 1  2  3  4  5  6]\n",
            " [ 7  8  9 10 11 12]\n",
            " [13 14 15 16 17 18]\n",
            " [19 20 21 22 23 24]\n",
            " [25 26 27 28 29 30]\n",
            " [31 32 33 34 35 36]]\n",
            "SUB_MATRIX: [[ 8  9 10 11]\n",
            " [14 15 16 17]\n",
            " [20 21 22 23]\n",
            " [26 27 28 29]]\n",
            "EVEN_NO_FROM_SUB_MATRIX: [ 8 10 14 16 20 22 26 28]\n"
          ]
        }
      ]
    },
    {
      "cell_type": "markdown",
      "source": [
        "7.Generate an array of shape (3, 4) with values from 0 to 11.\n",
        "● Reshape it to (2, 6)\n",
        "● Then flatten it into a 1D array\n",
        "● Convert the 1D array back to shape (4, 3)"
      ],
      "metadata": {
        "id": "Tkbs6BTvAvWr"
      }
    },
    {
      "cell_type": "code",
      "source": [
        "a = np.arange(0,12).reshape(2,6)\n",
        "b = a.flatten()\n",
        "c = b.reshape(4,3)\n",
        "print(\"ARRAY:\",a)\n",
        "print(\"FLATTEN_ARRAY\",b)\n",
        "print(\"CONVERTED ARRAY:\",c)\n"
      ],
      "metadata": {
        "colab": {
          "base_uri": "https://localhost:8080/"
        },
        "id": "vFX5lBgB-p83",
        "outputId": "184fec70-bf36-4ef4-816b-18f0abb2b73e"
      },
      "execution_count": null,
      "outputs": [
        {
          "output_type": "stream",
          "name": "stdout",
          "text": [
            "ARRAY: [[ 0  1  2  3  4  5]\n",
            " [ 6  7  8  9 10 11]]\n",
            "FLATTEN_ARRAY [ 0  1  2  3  4  5  6  7  8  9 10 11]\n",
            "CONVERTED ARRAY: [[ 0  1  2]\n",
            " [ 3  4  5]\n",
            " [ 6  7  8]\n",
            " [ 9 10 11]]\n"
          ]
        }
      ]
    },
    {
      "cell_type": "markdown",
      "source": [
        "8. Create an array: a = np.array([[1, 2], [3, 4]])\n",
        "● Append a new row [5, 6]\n",
        "● Then append a new column [7, 8, 9]"
      ],
      "metadata": {
        "id": "Lf-XsomgCS1U"
      }
    },
    {
      "cell_type": "code",
      "source": [
        "a = np.array([[1, 2], [3, 4]])\n",
        "b = np.array([5,6])\n",
        "c = np.array([ [7] , [8] , [9]])\n",
        "d = np.vstack((a,b))\n",
        "e = np.hstack((d,c))\n",
        "print(\"ARRAY\",a)\n",
        "print(\"NEW ROW:\",d)\n",
        "print(\"NEW COL:\",e)"
      ],
      "metadata": {
        "colab": {
          "base_uri": "https://localhost:8080/"
        },
        "id": "uH0Lq9HrCJVL",
        "outputId": "5f359869-6b39-43be-a47a-ce467783ebff"
      },
      "execution_count": null,
      "outputs": [
        {
          "output_type": "stream",
          "name": "stdout",
          "text": [
            "ARRAY [[1 2]\n",
            " [3 4]]\n",
            "NEW ROW: [[1 2]\n",
            " [3 4]\n",
            " [5 6]]\n",
            "NEW COL: [[1 2 7]\n",
            " [3 4 8]\n",
            " [5 6 9]]\n"
          ]
        }
      ]
    },
    {
      "cell_type": "markdown",
      "source": [
        "9.\n",
        "a = np.array([1, 2, 3])\n",
        "b = np.array([4, 5, 6])\n",
        "c = np.array([7, 8, 9])\n",
        "● Join them into a single array\n",
        "● Reshape the result into a 3×3 matrix\n",
        "● Extract the diagonal elements"
      ],
      "metadata": {
        "id": "Jl2HNUp6GN9j"
      }
    },
    {
      "cell_type": "code",
      "source": [
        "a = np.array([1, 2, 3])\n",
        "b = np.array([4, 5, 6])\n",
        "c = np.array([7, 8, 9])\n",
        "d = np.concatenate((a,b,c))\n",
        "e = d.reshape(3,3)\n",
        "f = np.diag(e)\n",
        "print(\"JOINED ARRAY :\",d)\n",
        "print(\"RESHAPED :\",e)\n",
        "print(\"DIAGONAL_ELEMENTS\",f)"
      ],
      "metadata": {
        "id": "yh1fr-MhGNZy",
        "colab": {
          "base_uri": "https://localhost:8080/"
        },
        "outputId": "9bd5ed52-27d9-4f80-bb85-7c8d8e165c52"
      },
      "execution_count": null,
      "outputs": [
        {
          "output_type": "stream",
          "name": "stdout",
          "text": [
            "JOINED ARRAY : [1 2 3 4 5 6 7 8 9]\n",
            "RESHAPED : [[1 2 3]\n",
            " [4 5 6]\n",
            " [7 8 9]]\n",
            "DIAGONAL_ELEMENTS [1 5 9]\n"
          ]
        }
      ]
    },
    {
      "cell_type": "markdown",
      "source": [
        "10. Create a NumPy array of integers from 1 to 20.\n",
        "● Extract all values that are divisible by 3 or 5.\n",
        "● Count how many such values exist."
      ],
      "metadata": {
        "id": "bNDNtAf9IA4k"
      }
    },
    {
      "cell_type": "code",
      "source": [
        "a = np.arange(1,21)\n",
        "b = a[(a %3 == 0) |(a % 5 ==0)]\n",
        "c = b.size\n",
        "print(\"ARRAY :\",a)\n",
        "print(\"DIV:\",b)\n",
        "print(\"COUNT_DIV:\",c)"
      ],
      "metadata": {
        "colab": {
          "base_uri": "https://localhost:8080/"
        },
        "id": "RIorL6IoHTks",
        "outputId": "46270f26-1c49-4a55-ffde-8cdf4c322eaf"
      },
      "execution_count": null,
      "outputs": [
        {
          "output_type": "stream",
          "name": "stdout",
          "text": [
            "ARRAY : [ 1  2  3  4  5  6  7  8  9 10 11 12 13 14 15 16 17 18 19 20]\n",
            "DIV: [ 3  5  6  9 10 12 15 18 20]\n",
            "COUNT_DIV: 9\n"
          ]
        }
      ]
    }
  ]
}